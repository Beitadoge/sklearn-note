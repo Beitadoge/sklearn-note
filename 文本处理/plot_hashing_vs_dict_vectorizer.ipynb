{
 "cells": [
  {
   "cell_type": "code",
   "execution_count": 1,
   "metadata": {},
   "outputs": [],
   "source": [
    "%matplotlib inline"
   ]
  },
  {
   "cell_type": "code",
   "execution_count": 2,
   "metadata": {},
   "outputs": [],
   "source": [
    "from collections import defaultdict\n",
    "import re\n",
    "import sys\n",
    "from time import time\n",
    "import numpy as np\n",
    "\n",
    "from sklearn.datasets import fetch_20newsgroups\n",
    "from sklearn.feature_extraction import DictVectorizer , FeatureHasher"
   ]
  },
  {
   "cell_type": "code",
   "execution_count": 3,
   "metadata": {},
   "outputs": [],
   "source": [
    "def n_nonzero_columns(X):\n",
    "    \"\"\"\n",
    "    X.nonzero() : 由于X是二维的,所以返回一个元组，元组有两个元素，每个元素是个列表，每个元素的意义代表索引\n",
    "    np.unique(X) :返回去除重复元素后的数组\n",
    "    \"\"\"\n",
    "    return len(np.unique(X.nonzero()[1]))\n",
    "\n",
    "def tokens(doc):\n",
    "    return (tok.lower() for tok in re.findall(r\"\\w\",doc))\n",
    "\n",
    "def token_freqs(doc):\n",
    "    freq = defaultdict(int) #每个键的值默认是个int类型的数\n",
    "    for tok in tokens(doc):\n",
    "        freq[tok] += 1\n",
    "    return freq"
   ]
  },
  {
   "cell_type": "code",
   "execution_count": 4,
   "metadata": {},
   "outputs": [],
   "source": [
    "categories_list = [\n",
    "    'alt.atheism',\n",
    "    'comp.graphics',\n",
    "    'comp.sys.ibm.pc.hardware',\n",
    "    'misc.forsale',\n",
    "    'rec.autos',\n",
    "    'sci.space',\n",
    "    'talk.religion.misc',\n",
    "]"
   ]
  },
  {
   "cell_type": "code",
   "execution_count": 5,
   "metadata": {},
   "outputs": [
    {
     "name": "stdout",
     "output_type": "stream",
     "text": [
      "Automatically created module for IPython interactive environment\n",
      "Usage: /home/penggh/anaconda3/lib/python3.6/site-packages/ipykernel_launcher.py [n_features_for_hashing]\n",
      "    The default number of features is 2**18.\n"
     ]
    }
   ],
   "source": [
    "print(__doc__)\n",
    "print(\"Usage: %s [n_features_for_hashing]\" % sys.argv[0])\n",
    "print(\"    The default number of features is 2**18.\")"
   ]
  },
  {
   "cell_type": "code",
   "execution_count": null,
   "metadata": {},
   "outputs": [],
   "source": [
    "# try:\n",
    "#     n_features = int(sys.argv[1])\n",
    "# except IndexError:\n",
    "#     n_features = 2 ** 18\n",
    "# except ValueError:\n",
    "#     print(\"not a valid number of features: %r\" % sys.argv[1])\n",
    "#     sys.exit(1)"
   ]
  },
  {
   "cell_type": "code",
   "execution_count": 6,
   "metadata": {},
   "outputs": [
    {
     "name": "stdout",
     "output_type": "stream",
     "text": [
      "Loading 20 newsgroups training data\n",
      "3803 documents - 6.245MB\n"
     ]
    }
   ],
   "source": [
    "print(\"Loading 20 newsgroups training data\")\n",
    "raw_data = fetch_20newsgroups(subset='train',categories=categories_list).data\n",
    "data_size_mb = sum(len(s.encode('utf-8')) for s in raw_data) / 1e6\n",
    "print(\"%d documents - %0.3fMB\" % (len(raw_data), data_size_mb))"
   ]
  },
  {
   "cell_type": "code",
   "execution_count": 8,
   "metadata": {},
   "outputs": [
    {
     "name": "stdout",
     "output_type": "stream",
     "text": [
      "DictVectorizer\n",
      "done in 1.563622s at 3.994MB/s\n",
      "Found 46 unique terms\n"
     ]
    }
   ],
   "source": [
    "print(\"DictVectorizer\")\n",
    "t0 = time()\n",
    "vectorizer = DictVectorizer()\n",
    "X = vectorizer.fit_transform(token_freqs(d) for d in raw_data)\n",
    "duration = time() - t0\n",
    "print(\"done in %fs at %0.3fMB/s\" % (duration, data_size_mb / duration))\n",
    "print(\"Found %d unique terms\" % len(vectorizer.get_feature_names()))"
   ]
  },
  {
   "cell_type": "code",
   "execution_count": 10,
   "metadata": {},
   "outputs": [
    {
     "data": {
      "text/plain": [
       "['0',\n",
       " '1',\n",
       " '2',\n",
       " '3',\n",
       " '4',\n",
       " '5',\n",
       " '6',\n",
       " '7',\n",
       " '8',\n",
       " '9',\n",
       " '_',\n",
       " 'a',\n",
       " 'b',\n",
       " 'c',\n",
       " 'd',\n",
       " 'e',\n",
       " 'f',\n",
       " 'g',\n",
       " 'h',\n",
       " 'i',\n",
       " 'j',\n",
       " 'k',\n",
       " 'l',\n",
       " 'm',\n",
       " 'n',\n",
       " 'o',\n",
       " 'p',\n",
       " 'q',\n",
       " 'r',\n",
       " 's',\n",
       " 't',\n",
       " 'u',\n",
       " 'v',\n",
       " 'w',\n",
       " 'x',\n",
       " 'y',\n",
       " 'z',\n",
       " 'ª',\n",
       " '¹',\n",
       " 'º',\n",
       " 'é',\n",
       " 'ñ',\n",
       " 'ú',\n",
       " 'ý',\n",
       " 'þ',\n",
       " 'ÿ']"
      ]
     },
     "execution_count": 10,
     "metadata": {},
     "output_type": "execute_result"
    }
   ],
   "source": [
    "vectorizer.get_feature_names()"
   ]
  },
  {
   "cell_type": "code",
   "execution_count": 11,
   "metadata": {},
   "outputs": [
    {
     "name": "stdout",
     "output_type": "stream",
     "text": [
      "FeatureHasher on frequency dicts\n",
      "done in 1.494447s at 4.179MB/s\n",
      "Found 36 unique terms\n",
      "\n"
     ]
    }
   ],
   "source": [
    "print(\"FeatureHasher on frequency dicts\")\n",
    "t0 = time()\n",
    "n_features = 64\n",
    "hasher = FeatureHasher(n_features=n_features)\n",
    "X = hasher.transform(token_freqs(d) for d in raw_data)\n",
    "duration = time() - t0\n",
    "print(\"done in %fs at %0.3fMB/s\" % (duration, data_size_mb / duration))\n",
    "print(\"Found %d unique terms\" % n_nonzero_columns(X))\n",
    "print()"
   ]
  },
  {
   "cell_type": "code",
   "execution_count": 12,
   "metadata": {},
   "outputs": [
    {
     "name": "stdout",
     "output_type": "stream",
     "text": [
      "FeatureHasher on raw tokens\n",
      "done in 2.168380s at 2.880MB/s\n",
      "Found 36 unique terms\n"
     ]
    }
   ],
   "source": [
    "print(\"FeatureHasher on raw tokens\")\n",
    "t0 = time()\n",
    "hasher = FeatureHasher(n_features=n_features, input_type=\"string\")\n",
    "X = hasher.transform(tokens(d) for d in raw_data)\n",
    "duration = time() - t0\n",
    "print(\"done in %fs at %0.3fMB/s\" % (duration, data_size_mb / duration))\n",
    "print(\"Found %d unique terms\" % n_nonzero_columns(X))"
   ]
  },
  {
   "cell_type": "code",
   "execution_count": null,
   "metadata": {},
   "outputs": [],
   "source": []
  }
 ],
 "metadata": {
  "kernelspec": {
   "display_name": "Python 3",
   "language": "python",
   "name": "python3"
  },
  "language_info": {
   "codemirror_mode": {
    "name": "ipython",
    "version": 3
   },
   "file_extension": ".py",
   "mimetype": "text/x-python",
   "name": "python",
   "nbconvert_exporter": "python",
   "pygments_lexer": "ipython3",
   "version": "3.6.4"
  }
 },
 "nbformat": 4,
 "nbformat_minor": 2
}
